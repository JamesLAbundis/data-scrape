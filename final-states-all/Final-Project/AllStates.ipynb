{
 "cells": [
  {
   "cell_type": "code",
   "execution_count": 3,
   "metadata": {
    "collapsed": true
   },
   "outputs": [],
   "source": [
    "state_list = ['AL',\n",
    " 'AR',\n",
    " 'AZ',\n",
    " 'CO',\n",
    " 'FL',\n",
    " 'GA',\n",
    " 'IA',\n",
    " 'ID',\n",
    " 'IL',\n",
    " 'KY',\n",
    " 'LA',\n",
    " 'MA',\n",
    " 'ME',\n",
    " 'MI',\n",
    " 'MO',\n",
    " 'MS',\n",
    " 'NC',\n",
    " 'NE',\n",
    " 'NH',\n",
    " 'NV',\n",
    " 'OH',\n",
    " 'OK',\n",
    " 'SC',\n",
    " 'TN',\n",
    " 'TX',\n",
    " 'UT',\n",
    " 'VA',\n",
    " 'VT']"
   ]
  },
  {
   "cell_type": "code",
   "execution_count": 30,
   "metadata": {
    "collapsed": false
   },
   "outputs": [],
   "source": [
    "import csv\n",
    "import pandas as pd\n",
    "\n",
    "df_list = []\n",
    "for state in state_list:\n",
    "    name = state + '_files'\n",
    "    df_list.append(pd.read_csv(state + '_Analysis_all.csv'))\n",
    "    \n",
    "stuff = pd.concat(df_list)\n"
   ]
  },
  {
   "cell_type": "code",
   "execution_count": null,
   "metadata": {
    "collapsed": true
   },
   "outputs": [],
   "source": []
  },
  {
   "cell_type": "code",
   "execution_count": 23,
   "metadata": {
    "collapsed": false
   },
   "outputs": [],
   "source": [
    "\n",
    "stuff = stuff.reset_index()"
   ]
  },
  {
   "cell_type": "code",
   "execution_count": null,
   "metadata": {
    "collapsed": false
   },
   "outputs": [],
   "source": [
    "\n",
    "set(stuff['candidate'])"
   ]
  },
  {
   "cell_type": "code",
   "execution_count": 27,
   "metadata": {
    "collapsed": false
   },
   "outputs": [],
   "source": [
    "stuff = stuff[['state', 'state_abbreviation', 'county',\n",
    "       'party', 'candidate', 'fraction_votes', 'AGE775214', 'RHI825214',\n",
    "       'EDU635213', 'SEX255214', 'INC110213', 'POP060210']]\n"
   ]
  },
  {
   "cell_type": "code",
   "execution_count": 29,
   "metadata": {
    "collapsed": false
   },
   "outputs": [],
   "source": [
    "stuff.to_csv('All_states.csv')"
   ]
  },
  {
   "cell_type": "code",
   "execution_count": null,
   "metadata": {
    "collapsed": true
   },
   "outputs": [],
   "source": []
  }
 ],
 "metadata": {
  "kernelspec": {
   "display_name": "Python 3",
   "language": "python",
   "name": "python3"
  },
  "language_info": {
   "codemirror_mode": {
    "name": "ipython",
    "version": 3
   },
   "file_extension": ".py",
   "mimetype": "text/x-python",
   "name": "python",
   "nbconvert_exporter": "python",
   "pygments_lexer": "ipython3",
   "version": "3.4.3"
  }
 },
 "nbformat": 4,
 "nbformat_minor": 0
}
