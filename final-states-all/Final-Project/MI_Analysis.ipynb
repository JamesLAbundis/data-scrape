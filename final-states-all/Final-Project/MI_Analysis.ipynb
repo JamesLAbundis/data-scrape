{
 "cells": [
  {
   "cell_type": "code",
   "execution_count": 1,
   "metadata": {
    "collapsed": false
   },
   "outputs": [],
   "source": [
    "import pandas as pd\n",
    "import numpy as np\n",
    "import matplotlib.pyplot as plt\n",
    "from sqlalchemy import create_engine\n",
    "import plotly.plotly as py\n",
    "%matplotlib inline\n",
    "\n",
    "py.sign_in('vnxiclaire', 'uq7kt26gym')\n",
    "conn = create_engine(\"sqlite:///database.sqlite\")\n",
    "\n",
    "\n",
    "county_query = 'SELECT * FROM county_facts'\n",
    "countydf = pd.read_sql(county_query, conn)\n",
    "\n",
    "total_info = '''SELECT * \n",
    "                 FROM primary_results as p'''\n",
    "primdf = pd.read_sql(total_info, conn)\n",
    "facts_dict = 'SELECT * FROM county_facts_dictionary'\n",
    "dictdf = pd.read_sql(facts_dict, conn)\n",
    "\n"
   ]
  },
  {
   "cell_type": "code",
   "execution_count": 2,
   "metadata": {
    "collapsed": false
   },
   "outputs": [],
   "source": [
    "#column label clean up\n",
    "countydf.columns\n",
    "#rename column area_name to county\n",
    "countydf = countydf.rename(columns={ 'area_name': 'county'})"
   ]
  },
  {
   "cell_type": "code",
   "execution_count": 3,
   "metadata": {
    "collapsed": false
   },
   "outputs": [],
   "source": [
    "#removes \"county\" suffix in county column\n",
    "def removecounty(row):\n",
    "    return row[\"county\"].split(\" \")[0]\n",
    "    \n",
    "countydf['county'] = countydf.apply(removecounty, axis=1)"
   ]
  },
  {
   "cell_type": "code",
   "execution_count": null,
   "metadata": {
    "collapsed": false
   },
   "outputs": [],
   "source": []
  },
  {
   "cell_type": "code",
   "execution_count": 4,
   "metadata": {
    "collapsed": false
   },
   "outputs": [],
   "source": [
    "#Creates dictionary with\n",
    "countydict = dictdf.set_index('column_name').to_dict()\n"
   ]
  },
  {
   "cell_type": "markdown",
   "metadata": {},
   "source": [
    "# Important County Fact Keys:\n",
    "\n",
    "Race:\n",
    "\n",
    "'RHI725214': 'Hispanic or Latino, percent, 2014'\n",
    "\n",
    "'RHI625214': 'Two or More Races, percent, 2014'\n",
    "\n",
    "'RHI825214': 'White alone, not Hispanic or Latino, percent, 2014'\n",
    "\n",
    "'RHI525214': 'Native Hawaiian and Other Pacific Islander alone, percent, 2014'\n",
    "\n",
    "'RHI425214': 'Asian alone, percent, 2014'\n",
    "\n",
    "'RHI325214': 'American Indian and Alaska Native alone, percent, 2014'\n",
    "\n",
    "'RHI225214': 'Black or African American alone, percent, 2014'\n",
    "\n",
    "'RHI125214': 'White alone, percent, 2014'\n",
    "\n",
    "'POP815213': 'Language other than English spoken at home, pct age 5+, 2009-2013'\n",
    "\n",
    "Gender:\n",
    "\n",
    "'SEX255214': 'Female persons, percent, 2014'\n",
    "\n",
    "Economic Status:\n",
    "\n",
    "'PVY020213': 'Persons below poverty level, percent, 2009-2013'\n",
    "\n",
    "'INC910213': 'Per capita money income in past 12 months (2013 dollars), 2009-2013'\n",
    "\n",
    "'INC110213': 'Median household income, 2009-2013'\n",
    "\n",
    "Education:\n",
    "'EDU635213': 'High school graduate or higher, percent of persons age 25+, 2009-2013'\n",
    "\n",
    "'EDU685213': \"Bachelor's degree or higher, percent of persons age 25+, 2009-2013\"\n",
    "\n",
    "Age:\n",
    "\n",
    "'AGE295214': 'Persons under 18 years, percent, 2014'\n",
    "\n",
    "'AGE775214': 'Persons 65 years and over, percent, 2014'\n",
    "\n",
    "Population:\n",
    "\n",
    "'POP010210': 'Population, 2010'\n",
    "\n",
    "'POP060210': 'Population per square mile, 2010'\n",
    "\n",
    "'POP645213': 'Foreign born persons, percent, 2009-2013'\n",
    "\n",
    "'PST040210': 'Population, 2010 (April 1) estimates base'\n",
    "\n",
    "'PST045214': 'Population, 2014 estimate'\n",
    "\n",
    "'PST120214': 'Population, percent change - April 1, 2010 to July 1, 2014'\n"
   ]
  },
  {
   "cell_type": "markdown",
   "metadata": {},
   "source": [
    "\n",
    "\n"
   ]
  },
  {
   "cell_type": "code",
   "execution_count": 5,
   "metadata": {
    "collapsed": false
   },
   "outputs": [],
   "source": [
    "\n",
    "#analysis on Alabama\n",
    "state_label = 'MI'\n",
    "albdf = primdf.ix[(primdf[\"state_abbreviation\"] == state_label)]\n",
    "repub = albdf.ix[(albdf[\"party\"] == \"Republican\")]\n",
    "democ = albdf.ix[(albdf[\"party\"] == \"Democrat\")]\n",
    "#get county facts on Alabama\n",
    "albfacts = countydf.ix[(countydf[\"state_abbreviation\"] == state_label)]\n",
    "democmerge = pd.merge(democ, albfacts, on= 'county')\n",
    "repubmerge = pd.merge(repub, albfacts, on = 'county')\n",
    "bernAL = democmerge.ix[(democmerge['candidate'] == \"Bernie Sanders\")]\n",
    "hillAL = democmerge.ix[(democmerge['candidate'] == \"Hillary Clinton\")]\n"
   ]
  },
  {
   "cell_type": "code",
   "execution_count": 6,
   "metadata": {
    "collapsed": false
   },
   "outputs": [],
   "source": [
    "trumpAL = repubmerge.ix[(repubmerge['candidate'] == \"Donald Trump\")]\n",
    "cruzAL = repubmerge.ix[(repubmerge['candidate'] == \"Ted Cruz\")]"
   ]
  },
  {
   "cell_type": "code",
   "execution_count": null,
   "metadata": {
    "collapsed": false
   },
   "outputs": [],
   "source": []
  },
  {
   "cell_type": "code",
   "execution_count": 7,
   "metadata": {
    "collapsed": false
   },
   "outputs": [
    {
     "data": {
      "text/html": [
       "<iframe id=\"igraph\" scrolling=\"no\" style=\"border:none;\" seamless=\"seamless\" src=\"https://plot.ly/~vnxiclaire/134.embed\" height=\"525px\" width=\"100%\"></iframe>"
      ],
      "text/plain": [
       "<plotly.tools.PlotlyDisplay object>"
      ]
     },
     "execution_count": 7,
     "metadata": {},
     "output_type": "execute_result"
    }
   ],
   "source": [
    "fig = {\n",
    "    'data': [\n",
    "           {\n",
    "            'x': bernAL.AGE775214,\n",
    "            'y': bernAL.fraction_votes, \n",
    "            'text': bernAL.county, \n",
    "            'mode': 'markers', \n",
    "            'name': 'bern'},\n",
    "            {\n",
    "            'x': hillAL.AGE775214,\n",
    "            'y': hillAL.fraction_votes, \n",
    "            'text': hillAL.county, \n",
    "            'mode': 'markers', \n",
    "            'name': 'hill'},\n",
    "            {\n",
    "            'x': trumpAL.AGE775214,\n",
    "            'y': trumpAL.fraction_votes, \n",
    "            'text': trumpAL.county, \n",
    "            'mode': 'markers', \n",
    "            'name': 'trump'},\n",
    "             {\n",
    "            'x': cruzAL.AGE775214,\n",
    "            'y': cruzAL.fraction_votes, \n",
    "            'text': cruzAL.county, \n",
    "            'mode': 'markers', \n",
    "            'name': 'cruz'},\n",
    "           \n",
    "\n",
    "    ],\n",
    "    'layout': {\n",
    "        'xaxis': {'title': '%People 65 yrs or older', 'type': 'log'},\n",
    "        'yaxis': {'title': \"Fraction of Votes\"}\n",
    "    }\n",
    "    \n",
    "}\n",
    "\n",
    "py.iplot(fig, filename='pandas/multiple-scatter_' + state_label)"
   ]
  },
  {
   "cell_type": "code",
   "execution_count": null,
   "metadata": {
    "collapsed": false
   },
   "outputs": [],
   "source": []
  },
  {
   "cell_type": "code",
   "execution_count": 8,
   "metadata": {
    "collapsed": false
   },
   "outputs": [],
   "source": [
    "fig6 = {\n",
    "    'data': [\n",
    "           {\n",
    "            'x': bernAL.RHI825214,\n",
    "            'y': bernAL.fraction_votes, \n",
    "            'text': bernAL.county, \n",
    "            'mode': 'markers', \n",
    "            'name': 'bern'},\n",
    "            {\n",
    "            'x': hillAL.RHI825214,\n",
    "            'y': hillAL.fraction_votes, \n",
    "            'text': hillAL.county, \n",
    "            'mode': 'markers', \n",
    "            'name': 'hill'},\n",
    "            {\n",
    "            'x': trumpAL.RHI825214,\n",
    "            'y': trumpAL.fraction_votes, \n",
    "            'text': trumpAL.county, \n",
    "            'mode': 'markers', \n",
    "            'name': 'trump'},\n",
    "             {\n",
    "            'x': cruzAL.RHI825214,\n",
    "            'y': cruzAL.fraction_votes, \n",
    "            'text': cruzAL.county, \n",
    "            'mode': 'markers', \n",
    "            'name': 'cruz'},\n",
    "           \n",
    "\n",
    "    ],\n",
    "    'layout': {\n",
    "        'xaxis': {'title': '%White alone, not Hispanic or Latino', 'type': 'log'},\n",
    "        'yaxis': {'title': \"Fraction of Votes\"}\n",
    "    }\n",
    "    \n",
    "}\n",
    "\n"
   ]
  },
  {
   "cell_type": "code",
   "execution_count": 9,
   "metadata": {
    "collapsed": false
   },
   "outputs": [
    {
     "data": {
      "text/html": [
       "<iframe id=\"igraph\" scrolling=\"no\" style=\"border:none;\" seamless=\"seamless\" src=\"https://plot.ly/~vnxiclaire/136.embed\" height=\"525px\" width=\"100%\"></iframe>"
      ],
      "text/plain": [
       "<plotly.tools.PlotlyDisplay object>"
      ]
     },
     "execution_count": 9,
     "metadata": {},
     "output_type": "execute_result"
    }
   ],
   "source": [
    "py.iplot(fig6, filename='pandas/multiple-scatter6_' + state_label)"
   ]
  },
  {
   "cell_type": "code",
   "execution_count": 10,
   "metadata": {
    "collapsed": false
   },
   "outputs": [
    {
     "data": {
      "text/html": [
       "<iframe id=\"igraph\" scrolling=\"no\" style=\"border:none;\" seamless=\"seamless\" src=\"https://plot.ly/~vnxiclaire/138.embed\" height=\"525px\" width=\"100%\"></iframe>"
      ],
      "text/plain": [
       "<plotly.tools.PlotlyDisplay object>"
      ]
     },
     "execution_count": 10,
     "metadata": {},
     "output_type": "execute_result"
    }
   ],
   "source": [
    "fig2 = {\n",
    "    'data': [\n",
    "           {\n",
    "            'x': bernAL.EDU635213,\n",
    "            'y': bernAL.fraction_votes, \n",
    "            'text': bernAL.county, \n",
    "            'mode': 'markers', \n",
    "            'name': 'bern'},\n",
    "            {\n",
    "            'x': hillAL.EDU635213,\n",
    "            'y': hillAL.fraction_votes, \n",
    "            'text': hillAL.county, \n",
    "            'mode': 'markers', \n",
    "            'name': 'hill'},\n",
    "            {\n",
    "            'x': trumpAL.EDU635213,\n",
    "            'y': trumpAL.fraction_votes, \n",
    "            'text': trumpAL.county, \n",
    "            'mode': 'markers', \n",
    "            'name': 'trump'},\n",
    "             {\n",
    "            'x': cruzAL.EDU635213,\n",
    "            'y': cruzAL.fraction_votes, \n",
    "            'text': cruzAL.county, \n",
    "            'mode': 'markers', \n",
    "            'name': 'cruz'},\n",
    "           \n",
    "\n",
    "    ],\n",
    "    'layout': {\n",
    "        'xaxis': {'title': ' %people High school grad or higher', 'type': 'log'},\n",
    "        'yaxis': {'title': \"Fraction of Votes\"}\n",
    "    }\n",
    "    \n",
    "}\n",
    "\n",
    "py.iplot(fig2, filename='pandas/multiple-scatter2_' + state_label)"
   ]
  },
  {
   "cell_type": "code",
   "execution_count": null,
   "metadata": {
    "collapsed": true
   },
   "outputs": [],
   "source": []
  },
  {
   "cell_type": "code",
   "execution_count": null,
   "metadata": {
    "collapsed": false
   },
   "outputs": [],
   "source": [
    "\n",
    "    "
   ]
  },
  {
   "cell_type": "code",
   "execution_count": 11,
   "metadata": {
    "collapsed": false
   },
   "outputs": [
    {
     "data": {
      "text/html": [
       "<iframe id=\"igraph\" scrolling=\"no\" style=\"border:none;\" seamless=\"seamless\" src=\"https://plot.ly/~vnxiclaire/314.embed\" height=\"525px\" width=\"100%\"></iframe>"
      ],
      "text/plain": [
       "<plotly.tools.PlotlyDisplay object>"
      ]
     },
     "execution_count": 11,
     "metadata": {},
     "output_type": "execute_result"
    }
   ],
   "source": [
    "fig3 = {\n",
    "    'data': [\n",
    "           {\n",
    "            'x': bernAL.SEX255214,\n",
    "            'y': bernAL.fraction_votes, \n",
    "            'text': bernAL.county, \n",
    "            'mode': 'markers', \n",
    "            'name': 'bern'},\n",
    "            {\n",
    "            'x': hillAL.SEX255214,\n",
    "            'y': hillAL.fraction_votes, \n",
    "            'text': hillAL.county, \n",
    "            'mode': 'markers', \n",
    "            'name': 'hill'},\n",
    "            {\n",
    "            'x': trumpAL.SEX255214,\n",
    "            'y': trumpAL.fraction_votes, \n",
    "            'text': trumpAL.county, \n",
    "            'mode': 'markers', \n",
    "            'name': 'trump'},\n",
    "             {\n",
    "            'x': cruzAL.SEX255214,\n",
    "            'y': cruzAL.fraction_votes, \n",
    "            'text': cruzAL.county, \n",
    "            'mode': 'markers', \n",
    "            'name': 'cruz'},\n",
    "           \n",
    "\n",
    "    ],\n",
    "    'layout': {\n",
    "        'xaxis': {'title': ' Female persons % 2014', 'type': 'log'},\n",
    "        'yaxis': {'title': \"Fraction of Votes\"}\n",
    "    }\n",
    "    \n",
    "}\n",
    "\n",
    "py.iplot(fig3, filename='pandas/multiple-scatter3_' + state_label)"
   ]
  },
  {
   "cell_type": "code",
   "execution_count": null,
   "metadata": {
    "collapsed": false
   },
   "outputs": [],
   "source": [
    "\n"
   ]
  },
  {
   "cell_type": "code",
   "execution_count": 12,
   "metadata": {
    "collapsed": false
   },
   "outputs": [
    {
     "data": {
      "text/html": [
       "<iframe id=\"igraph\" scrolling=\"no\" style=\"border:none;\" seamless=\"seamless\" src=\"https://plot.ly/~vnxiclaire/140.embed\" height=\"525px\" width=\"100%\"></iframe>"
      ],
      "text/plain": [
       "<plotly.tools.PlotlyDisplay object>"
      ]
     },
     "execution_count": 12,
     "metadata": {},
     "output_type": "execute_result"
    }
   ],
   "source": [
    "fig4 = {\n",
    "    'data': [\n",
    "           {\n",
    "            'x': bernAL.INC110213,\n",
    "            'y': bernAL.fraction_votes, \n",
    "            'text': bernAL.county, \n",
    "            'mode': 'markers', \n",
    "            'name': 'bern'},\n",
    "            {\n",
    "            'x': hillAL.INC110213,\n",
    "            'y': hillAL.fraction_votes, \n",
    "            'text': hillAL.county, \n",
    "            'mode': 'markers', \n",
    "            'name': 'hill'},\n",
    "            {\n",
    "            'x': trumpAL.INC110213,\n",
    "            'y': trumpAL.fraction_votes, \n",
    "            'text': trumpAL.county, \n",
    "            'mode': 'markers', \n",
    "            'name': 'trump'},\n",
    "             {\n",
    "            'x': cruzAL.INC110213,\n",
    "            'y': cruzAL.fraction_votes, \n",
    "            'text': cruzAL.county, \n",
    "            'mode': 'markers', \n",
    "            'name': 'cruz'},\n",
    "           \n",
    "\n",
    "    ],\n",
    "    'layout': {\n",
    "        'xaxis': {'title': ' Income', 'type': 'log'},\n",
    "        'yaxis': {'title': \"Fraction of Votes\"}\n",
    "    }\n",
    "    \n",
    "}\n",
    "\n",
    "py.iplot(fig4, filename='pandas/multiple-scatter4_' + state_label)"
   ]
  },
  {
   "cell_type": "code",
   "execution_count": null,
   "metadata": {
    "collapsed": false
   },
   "outputs": [],
   "source": [
    "  \n"
   ]
  },
  {
   "cell_type": "code",
   "execution_count": 13,
   "metadata": {
    "collapsed": false
   },
   "outputs": [
    {
     "data": {
      "text/html": [
       "<iframe id=\"igraph\" scrolling=\"no\" style=\"border:none;\" seamless=\"seamless\" src=\"https://plot.ly/~vnxiclaire/142.embed\" height=\"525px\" width=\"100%\"></iframe>"
      ],
      "text/plain": [
       "<plotly.tools.PlotlyDisplay object>"
      ]
     },
     "execution_count": 13,
     "metadata": {},
     "output_type": "execute_result"
    }
   ],
   "source": [
    "fig5 = {\n",
    "    'data': [\n",
    "           {\n",
    "            'x': bernAL.POP060210,\n",
    "            'y': bernAL.fraction_votes, \n",
    "            'text': bernAL.county, \n",
    "            'mode': 'markers', \n",
    "            'name': 'bern'},\n",
    "            {\n",
    "            'x': hillAL.POP060210,\n",
    "            'y': hillAL.fraction_votes, \n",
    "            'text': hillAL.county, \n",
    "            'mode': 'markers', \n",
    "            'name': 'hill'},\n",
    "            {\n",
    "            'x': trumpAL.POP060210,\n",
    "            'y': trumpAL.fraction_votes, \n",
    "            'text': trumpAL.county, \n",
    "            'mode': 'markers', \n",
    "            'name': 'trump'},\n",
    "             {\n",
    "            'x': cruzAL.POP060210,\n",
    "            'y': cruzAL.fraction_votes, \n",
    "            'text': cruzAL.county, \n",
    "            'mode': 'markers', \n",
    "            'name': 'cruz'},\n",
    "           \n",
    "\n",
    "    ],\n",
    "    'layout': {\n",
    "        'xaxis': {'title': ' Population Density %', 'type': 'log'},\n",
    "        'yaxis': {'title': \"Fraction of Votes\"}\n",
    "    }\n",
    "    \n",
    "}\n",
    "\n",
    "py.iplot(fig5, filename='pandas/multiple-scatter5_' + state_label)"
   ]
  },
  {
   "cell_type": "code",
   "execution_count": null,
   "metadata": {
    "collapsed": false
   },
   "outputs": [],
   "source": []
  },
  {
   "cell_type": "code",
   "execution_count": null,
   "metadata": {
    "collapsed": false
   },
   "outputs": [],
   "source": []
  },
  {
   "cell_type": "code",
   "execution_count": null,
   "metadata": {
    "collapsed": false
   },
   "outputs": [],
   "source": []
  },
  {
   "cell_type": "code",
   "execution_count": null,
   "metadata": {
    "collapsed": false
   },
   "outputs": [],
   "source": [
    " "
   ]
  },
  {
   "cell_type": "code",
   "execution_count": null,
   "metadata": {
    "collapsed": false
   },
   "outputs": [],
   "source": []
  },
  {
   "cell_type": "code",
   "execution_count": null,
   "metadata": {
    "collapsed": false
   },
   "outputs": [],
   "source": []
  },
  {
   "cell_type": "code",
   "execution_count": null,
   "metadata": {
    "collapsed": false
   },
   "outputs": [],
   "source": []
  },
  {
   "cell_type": "code",
   "execution_count": null,
   "metadata": {
    "collapsed": false
   },
   "outputs": [],
   "source": []
  },
  {
   "cell_type": "code",
   "execution_count": null,
   "metadata": {
    "collapsed": false
   },
   "outputs": [],
   "source": []
  },
  {
   "cell_type": "code",
   "execution_count": null,
   "metadata": {
    "collapsed": false
   },
   "outputs": [],
   "source": [
    "  "
   ]
  },
  {
   "cell_type": "code",
   "execution_count": null,
   "metadata": {
    "collapsed": false
   },
   "outputs": [],
   "source": []
  },
  {
   "cell_type": "code",
   "execution_count": null,
   "metadata": {
    "collapsed": false
   },
   "outputs": [],
   "source": [
    "\n"
   ]
  },
  {
   "cell_type": "code",
   "execution_count": null,
   "metadata": {
    "collapsed": false
   },
   "outputs": [],
   "source": []
  },
  {
   "cell_type": "code",
   "execution_count": null,
   "metadata": {
    "collapsed": false
   },
   "outputs": [],
   "source": []
  },
  {
   "cell_type": "code",
   "execution_count": null,
   "metadata": {
    "collapsed": false
   },
   "outputs": [],
   "source": []
  },
  {
   "cell_type": "code",
   "execution_count": null,
   "metadata": {
    "collapsed": false
   },
   "outputs": [],
   "source": []
  },
  {
   "cell_type": "code",
   "execution_count": null,
   "metadata": {
    "collapsed": false
   },
   "outputs": [],
   "source": []
  },
  {
   "cell_type": "code",
   "execution_count": null,
   "metadata": {
    "collapsed": false
   },
   "outputs": [],
   "source": []
  },
  {
   "cell_type": "code",
   "execution_count": 14,
   "metadata": {
    "collapsed": false
   },
   "outputs": [],
   "source": [
    "#drop duplicate and not used columns from results table\n",
    "democmerge = democmerge.drop([\"fips_x\",'fips_y','state_abbreviation_y'], axis =1)\n",
    "repubmerge = repubmerge.drop([\"fips_x\",'fips_y','state_abbreviation_y'], axis =1)"
   ]
  },
  {
   "cell_type": "code",
   "execution_count": 15,
   "metadata": {
    "collapsed": false
   },
   "outputs": [],
   "source": [
    "#rename column names\n",
    "democmerge = democmerge.rename(columns = {'state_abbreviation_x':'state_abbreviation' })\n",
    "repubmerge = repubmerge.rename(columns = {'state_abbreviation_x':'state_abbreviation' })"
   ]
  },
  {
   "cell_type": "code",
   "execution_count": 16,
   "metadata": {
    "collapsed": false
   },
   "outputs": [],
   "source": [
    "#filter down dataframe to variables used for regression model\n",
    "democmerge.columns\n",
    "export = democmerge[['state','state_abbreviation','county','party','candidate','fraction_votes',\"AGE775214\",'RHI825214','EDU635213','SEX255214','INC110213','POP060210']]\n",
    "export_repub = repubmerge[['state','state_abbreviation','county','party','candidate','fraction_votes',\"AGE775214\",'RHI825214','EDU635213','SEX255214','INC110213','POP060210']]\n"
   ]
  },
  {
   "cell_type": "code",
   "execution_count": 17,
   "metadata": {
    "collapsed": false
   },
   "outputs": [],
   "source": [
    "export_final = pd.concat([export, export_repub])\n"
   ]
  },
  {
   "cell_type": "code",
   "execution_count": 18,
   "metadata": {
    "collapsed": false
   },
   "outputs": [],
   "source": [
    "export_final = export_final.reset_index()\n",
    "\n",
    "export_final.columns = ['id', 'state','state_abbreviation','county','party','candidate','fraction_votes',\"AGE775214\",'RHI825214','EDU635213','SEX255214','INC110213','POP060210']"
   ]
  },
  {
   "cell_type": "code",
   "execution_count": 19,
   "metadata": {
    "collapsed": false
   },
   "outputs": [],
   "source": [
    "export_final.to_csv(state_label + \"_Analysis_all.csv\")"
   ]
  },
  {
   "cell_type": "code",
   "execution_count": null,
   "metadata": {
    "collapsed": false
   },
   "outputs": [],
   "source": []
  },
  {
   "cell_type": "code",
   "execution_count": null,
   "metadata": {
    "collapsed": true
   },
   "outputs": [],
   "source": []
  }
 ],
 "metadata": {
  "kernelspec": {
   "display_name": "Python 3",
   "language": "python",
   "name": "python3"
  },
  "language_info": {
   "codemirror_mode": {
    "name": "ipython",
    "version": 3
   },
   "file_extension": ".py",
   "mimetype": "text/x-python",
   "name": "python",
   "nbconvert_exporter": "python",
   "pygments_lexer": "ipython3",
   "version": "3.4.3"
  }
 },
 "nbformat": 4,
 "nbformat_minor": 0
}
