{
 "cells": [
  {
   "cell_type": "code",
   "execution_count": 8,
   "metadata": {
    "collapsed": false
   },
   "outputs": [],
   "source": [
    "import csv\n",
    "\n",
    "'''state_list = ['AL',\n",
    " 'AR',\n",
    " 'AZ',\n",
    " 'CO',\n",
    " 'FL',\n",
    " 'GA',\n",
    " 'IA',\n",
    " 'ID',\n",
    " 'IL',\n",
    " 'KY',\n",
    " 'LA',\n",
    " 'MA',\n",
    " 'ME',\n",
    " 'MI',\n",
    " 'MO',\n",
    " 'MS',\n",
    " 'NC',\n",
    " 'NE',\n",
    " 'NH',\n",
    " 'NV',\n",
    " 'OH',\n",
    " 'OK',\n",
    " 'SC',\n",
    " 'TN',\n",
    " 'TX',\n",
    " 'UT',\n",
    " 'VA',\n",
    " 'VT']'''\n",
    "\n",
    "state_list = ['VA']\n",
    "\n",
    "for state in state_list:\n",
    "    with open(state + \"_Analysis_all.csv\",\"r+\") as source:\n",
    "        rdr = csv.reader(source)\n",
    "        wtr= csv.writer(result)\n",
    "        for r in rdr:\n",
    "            wtr.writerow( (r[1], r[2] , r[3], r[4], r[5], r[6], r[7], r[8], r[9], r[10], r[11], r[12], r[13]) )"
   ]
  },
  {
   "cell_type": "code",
   "execution_count": null,
   "metadata": {
    "collapsed": true
   },
   "outputs": [],
   "source": []
  }
 ],
 "metadata": {
  "kernelspec": {
   "display_name": "Python 3",
   "language": "python",
   "name": "python3"
  },
  "language_info": {
   "codemirror_mode": {
    "name": "ipython",
    "version": 3
   },
   "file_extension": ".py",
   "mimetype": "text/x-python",
   "name": "python",
   "nbconvert_exporter": "python",
   "pygments_lexer": "ipython3",
   "version": "3.4.3"
  }
 },
 "nbformat": 4,
 "nbformat_minor": 0
}
